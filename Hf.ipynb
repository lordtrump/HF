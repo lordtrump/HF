{
  "cells": [
    {
      "cell_type": "markdown",
      "metadata": {
        "id": "view-in-github",
        "colab_type": "text"
      },
      "source": [
        "<a href=\"https://colab.research.google.com/github/lordtrump/HF/blob/main/Hf.ipynb\" target=\"_parent\"><img src=\"https://colab.research.google.com/assets/colab-badge.svg\" alt=\"Open In Colab\"/></a>"
      ]
    },
    {
      "cell_type": "code",
      "source": [
        "!pip install aria2"
      ],
      "metadata": {
        "id": "xqmmU_A8Jc2D"
      },
      "execution_count": null,
      "outputs": []
    },
    {
      "cell_type": "code",
      "source": [
        "\n",
        "\n",
        "# @title Download\n",
        "url_model = \"\" # @param {type:\"string\"}\n",
        "file_name = \"\" # @param {type:\"string\"}\n",
        "##############\n",
        "\n",
        "!aria2c --console-log-level=error -c -x 16 -s 16 -k 1M {url_model} -o {file_name}.safetensors"
      ],
      "metadata": {
        "id": "L5i2pM4T-3q8",
        "cellView": "form"
      },
      "execution_count": null,
      "outputs": []
    },
    {
      "cell_type": "markdown",
      "source": [],
      "metadata": {
        "id": "ov0VwtAIQxMY"
      }
    },
    {
      "cell_type": "markdown",
      "source": [
        "---"
      ],
      "metadata": {
        "id": "hhsj3cHRQue7"
      }
    },
    {
      "cell_type": "markdown",
      "source": [],
      "metadata": {
        "id": "GlAElkKoQwGf"
      }
    },
    {
      "cell_type": "code",
      "execution_count": null,
      "metadata": {
        "id": "SRHBLYbLOlYK",
        "cellView": "form"
      },
      "outputs": [],
      "source": [
        "\n",
        "# @title Huggingface Login\n",
        "\n",
        "# Get your 'HF' token 'WRITE' here: 'https://huggingface.co/settings/tokens'\n",
        "write_token = \"\"  # @param {type:\"string\"}\n",
        "\n",
        "# If the repository does not exist, it will be automatically created.\n",
        "repository_name = \"\"  # @param {type:\"string\"}\n",
        "# Make your repository private?\n",
        "make_private = False  # @param {type:\"string\"}\n",
        "\n",
        "\n",
        "\n",
        "\n",
        "\n",
        "# =======================================================================================\n",
        "import os\n",
        "import re\n",
        "from huggingface_hub import login\n",
        "from huggingface_hub import HfApi\n",
        "from huggingface_hub.utils import validate_repo_id, HfHubHTTPError\n",
        "\n",
        "!git config --global credential.helper store\n",
        "\n",
        "\n",
        "def sanitize_model_name(name):\n",
        "    # Remove invalid characters, limit the length, and fix other problems if there are any\n",
        "    name = re.sub(r\"[^\\w.-]\", \"\", name)\n",
        "    name = name[:96]\n",
        "    name = name.strip(\"-.\")\n",
        "    name = name.replace(\"..\", \".\")\n",
        "    return name\n",
        "\n",
        "\n",
        "def authenticate(write_token):\n",
        "    login(write_token, add_to_git_credential=True)\n",
        "    api = HfApi()\n",
        "    return api.whoami(write_token), api\n",
        "\n",
        "\n",
        "def create_repo(api, user, repo_name, repo_type, make_private=False):\n",
        "    global model_repo\n",
        "\n",
        "    repo_id = user[\"name\"] + \"/\" + repo_name.strip()\n",
        "\n",
        "    try:\n",
        "        validate_repo_id(repo_id)\n",
        "        api.create_repo(repo_id=repo_id, repo_type=repo_type, private=make_private)\n",
        "        print(f\"\\nRepo '{repo_id}' does not exist, creating the repository.\")\n",
        "    except HfHubHTTPError as e:\n",
        "        print(f\"\\nRepo '{repo_id}' already exists, skipping repository creation.\")\n",
        "\n",
        "    model_repo = repo_id\n",
        "    print(f\"Repo '{repo_id}' - link: https://huggingface.co/{repo_id}\\n\")\n",
        "\n",
        "\n",
        "user, api = authenticate(write_token)\n",
        "\n",
        "if repository_name:\n",
        "    sanitized_model_name = sanitize_model_name(repository_name)\n",
        "    create_repo(api, user, repo_name=sanitized_model_name, repo_type=\"model\", make_private=make_private)\n",
        "else:\n",
        "    create_repo(api, user, repo_name=\"THE_NAME_WAS_NOT_GIVEN\", repo_type=\"model\", make_private=make_private)"
      ]
    },
    {
      "cell_type": "markdown",
      "source": [],
      "metadata": {
        "id": "dfWEnyS5QzBI"
      }
    },
    {
      "cell_type": "code",
      "source": [
        "\n",
        "\n",
        "# @title Huggingface Uploads\n",
        "\n",
        "### Specify the path to the folder/file to upload. | Multiple paths are also supported, just separate them with commas/spaces.\n",
        "paths_input = \"\" # @param {type:\"string\"}\n",
        "# This is the path of directories that will be created in your repository. (Optional)\n",
        "path_in_repo = \"\" # @param {type:\"string\"}\n",
        "# Other information.\n",
        "commit_message = \"up\" # @param {type:\"string\"}\n",
        "\n",
        "\n",
        "\n",
        "\n",
        "\n",
        "# =======================================================================================\n",
        "import re\n",
        "from huggingface_hub import HfApi\n",
        "from pathlib import Path\n",
        "\n",
        "%store -r\n",
        "\n",
        "api = HfApi()\n",
        "\n",
        "\n",
        "if not commit_message:\n",
        "    commit_message = \"no commit message...\"\n",
        "\n",
        "\n",
        "def upload_to_hf_single(path, is_config):\n",
        "    path_obj = Path(path)\n",
        "    is_folder = path_obj.is_dir()\n",
        "    files = path_in_repo + path_obj.parts[-1]\n",
        "\n",
        "    print(f\"Uploading '{files}'\")\n",
        "    print(\"Please wait... If nothing happens, it doesn't mean that everything is stuck, some files take longer to process.\", end=\" \")\n",
        "\n",
        "    if is_folder:\n",
        "        api.upload_folder(\n",
        "            folder_path=path,\n",
        "            path_in_repo=files,\n",
        "            repo_id=model_repo,\n",
        "            commit_message=commit_message,\n",
        "            ignore_patterns=\".ipynb_checkpoints\",\n",
        "        )\n",
        "        print(f\"\\rUpload successful! Location: https://huggingface.co/{model_repo}/tree/main/{files}\\n---\\n\")\n",
        "    else:\n",
        "        api.upload_file(\n",
        "            path_or_fileobj=path,\n",
        "            path_in_repo=files,\n",
        "            repo_id=model_repo,\n",
        "            commit_message=commit_message,\n",
        "        )\n",
        "        print(f\"\\rUpload successful! Location: https://huggingface.co/{model_repo}/blob/main/{files}\\n---\\n\")\n",
        "\n",
        "\n",
        "def upload_to_hf_multi(paths, is_config):\n",
        "    paths = re.split(r\"[,\\s]+\", paths)\n",
        "\n",
        "    for path in paths:\n",
        "        if not path.startswith(\"/content/\"):\n",
        "            path =\"/content/\" + path\n",
        "        upload_to_hf_single(path, is_config)\n",
        "\n",
        "\n",
        "def upload(paths_input):\n",
        "    print(f\"Uploading to repository '{model_repo}' | https://huggingface.co/{model_repo}\\n\\n\")\n",
        "\n",
        "    if \",\" in paths_input or \" \" in paths_input:\n",
        "        upload_to_hf_multi(paths_input, False)\n",
        "    else:\n",
        "        if not paths_input.startswith(\"/content/\"):\n",
        "            paths_input = \"/content/\" + paths_input\n",
        "        upload_to_hf_single(paths_input, False)\n",
        "\n",
        "\n",
        "upload(paths_input)"
      ],
      "metadata": {
        "cellView": "form",
        "id": "FL_e3Am0OMER"
      },
      "execution_count": null,
      "outputs": []
    },
    {
      "cell_type": "markdown",
      "source": [],
      "metadata": {
        "id": "534b09B_Q0fQ"
      }
    },
    {
      "cell_type": "markdown",
      "source": [
        "---"
      ],
      "metadata": {
        "id": "rQlpUr9FQ1Hq"
      }
    }
  ],
  "metadata": {
    "colab": {
      "provenance": [],
      "private_outputs": true,
      "authorship_tag": "ABX9TyPLSlRrxcKxATKRUk9pRXq2",
      "include_colab_link": true
    },
    "kernelspec": {
      "display_name": "Python 3",
      "name": "python3"
    },
    "language_info": {
      "name": "python"
    }
  },
  "nbformat": 4,
  "nbformat_minor": 0
}