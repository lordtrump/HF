{
 "cells": [
  {
   "cell_type": "markdown",
   "id": "20d2b14e-4603-4b7b-8ad3-a6518198882b",
   "metadata": {
    "jp-MarkdownHeadingCollapsed": true,
    "tags": []
   },
   "source": [
    "## [1] First time 👈\n",
    "---"
   ]
  },
  {
   "cell_type": "code",
   "execution_count": null,
   "id": "7855e56b-7ab6-44b9-be47-0d2df87b257e",
   "metadata": {
    "tags": []
   },
   "outputs": [],
   "source": [
    "import os\n",
    "from IPython.utils import capture\n",
    "def detect_environment():\n",
    "    environments = {\n",
    "        'COLAB_GPU': ('Google Colab', \"/content\"),\n",
    "        'KAGGLE_URL_BASE': ('Kaggle', \"/kaggle/working/content\"),\n",
    "        'SAGEMAKER_INTERNAL_IMAGE_URI': ('SageMaker Studio Lab', \"/home/studio-lab-user/content\")\n",
    "    }\n",
    "    for env_var, (environment, path) in environments.items():\n",
    "        if env_var in os.environ:\n",
    "            return environment, path\n",
    "    print(\"\\033[31mError: an unsupported runtime environment was detected.\\n\\033[34mSupported environments:\\033[0m Google Colab, Kaggle, Sagemaker Studio Lab\")\n",
    "    return None, None\n",
    "env, root_path = detect_environment()\n",
    "if env and root_path:\n",
    "    webui_path = f\"{root_path}/wibu\"\n",
    "    print(f\"Performance Environment: \\033[33m{env}\\n\\033[0m\")\n",
    "    print(\"Please wait for the files to download.... 👀\", end='')\n",
    "    with capture.capture_output() as cap:\n",
    "        files = [f'start_b.py', f'launch.py']\n",
    "        folder_path = f'{root_path}/file_cell'\n",
    "        if os.path.exists(folder_path):\n",
    "            !rm -rf {folder_path}\n",
    "        !mkdir -p {folder_path}\n",
    "        for file in files:\n",
    "            !git clone -q https://github.com/lordtrump/cell_file {folder_path}\n",
    "    del cap\n",
    "    print(\"\\rDone! Now you can run the cells below. ☄️\" + \" \"*30)"
   ]
  },
  {
   "cell_type": "markdown",
   "id": "f45bb979-7240-41ae-85f4-f1072a09ba1c",
   "metadata": {
    "jp-MarkdownHeadingCollapsed": true,
    "tags": []
   },
   "source": [
    "## [2] Install & Update 👈\n",
    "---"
   ]
  },
  {
   "cell_type": "code",
   "execution_count": null,
   "id": "fe760e21-976a-4a4f-93cc-890afccca475",
   "metadata": {
    "tags": []
   },
   "outputs": [],
   "source": [
    "%run {folder_path}/start_b.py"
   ]
  },
  {
   "cell_type": "markdown",
   "id": "69a06094-c1e9-4960-a4f2-ca47903aed40",
   "metadata": {
    "jp-MarkdownHeadingCollapsed": true,
    "tags": []
   },
   "source": [
    "## [3] Launch 👈\n",
    "---"
   ]
  },
  {
   "cell_type": "code",
   "execution_count": null,
   "id": "68244e6a-6c09-4a9d-8a12-cc19501760cc",
   "metadata": {
    "tags": []
   },
   "outputs": [],
   "source": [
    "ngrok_token = \"TOKEN\"\n",
    "\n",
    "%run {folder_path}/launch.py"
   ]
  },
  {
   "cell_type": "markdown",
   "id": "3ca9b9b1-21b7-4c71-82c7-0ba716affe42",
   "metadata": {
    "jp-MarkdownHeadingCollapsed": true,
    "tags": []
   },
   "source": [
    "## Tools\n",
    "---"
   ]
  },
  {
   "cell_type": "code",
   "execution_count": null,
   "id": "ba615797-9ed8-4538-bd4c-ebb554fe75cd",
   "metadata": {
    "tags": []
   },
   "outputs": [],
   "source": [
    "# CLEAN UNNECESSARY CACHE/FILES if you need more space, will not delete your WEBUI Folder.\n",
    "!pip cache purge\n",
    "!rm -rf ~/.cache"
   ]
  },
  {
   "cell_type": "code",
   "execution_count": null,
   "id": "254a8b0b-5246-4c78-ae7a-9b0381590eb7",
   "metadata": {
    "tags": []
   },
   "outputs": [],
   "source": [
    "# DISK/STORAGE INFO\n",
    "import os\n",
    "import psutil\n",
    "directory = \"/home/studio-lab-user\" # Change the path to check the others.\n",
    "disk_space = psutil.disk_usage(directory)\n",
    "total = disk_space.total / (1024 ** 3)\n",
    "used = disk_space.used / (1024 ** 3)\n",
    "free = disk_space.free / (1024 ** 3)\n",
    "print(f\"Total Storage on '{directory}' : [{total:.2f} GB] | Used: [{used:.2f} GB] | Free: [{free:.2f} GB]\")"
   ]
  },
  {
   "cell_type": "code",
   "execution_count": null,
   "id": "8eb56d74-c5e4-4001-884e-9a48bf28cd8b",
   "metadata": {},
   "outputs": [],
   "source": []
  }
 ],
 "metadata": {
  "kernelspec": {
   "display_name": "default:Python",
   "language": "python",
   "name": "conda-env-default-py"
  },
  "language_info": {
   "codemirror_mode": {
    "name": "ipython",
    "version": 3
   },
   "file_extension": ".py",
   "mimetype": "text/x-python",
   "name": "python",
   "nbconvert_exporter": "python",
   "pygments_lexer": "ipython3",
   "version": "3.9.16"
  }
 },
 "nbformat": 4,
 "nbformat_minor": 5
}
